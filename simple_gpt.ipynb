{
 "cells": [
  {
   "cell_type": "code",
   "execution_count": 1,
   "metadata": {},
   "outputs": [],
   "source": [
    "import torch\n",
    "import torch.nn as nn\n",
    "import torch.nn.functional as F"
   ]
  },
  {
   "cell_type": "code",
   "execution_count": 20,
   "metadata": {},
   "outputs": [
    {
     "name": "stdout",
     "output_type": "stream",
     "text": [
      "tensor([[1., 1., 1.],\n",
      "        [1., 1., 1.],\n",
      "        [1., 1., 1.]])\n",
      "tensor([[1., 0., 0.],\n",
      "        [1., 1., 0.],\n",
      "        [1., 1., 1.]])\n",
      "tensor(6.)\n",
      "tensor([1., 2., 3.])\n",
      "tensor([[1.0000, 0.0000, 0.0000],\n",
      "        [0.5000, 0.5000, 0.0000],\n",
      "        [0.3333, 0.3333, 0.3333]])\n",
      "tensor([[3., 1., 4.],\n",
      "        [2., 9., 9.],\n",
      "        [5., 5., 3.]])\n",
      "tensor([[3.0000, 1.0000, 4.0000],\n",
      "        [2.5000, 5.0000, 6.5000],\n",
      "        [3.3333, 5.0000, 5.3333]])\n"
     ]
    }
   ],
   "source": [
    "# efficient matrix multiplication w/ masking\n",
    "\n",
    "a = torch.ones(3, 3)\n",
    "print(a)\n",
    "\n",
    "a = a.tril()\n",
    "print(a)\n",
    "\n",
    "a = a / a.sum(1, keepdim=True)\n",
    "print(a)\n",
    "\n",
    "b = torch.randint(0, 10, (3, 3)).float()\n",
    "print(b)\n",
    "\n",
    "c = a @ b\n",
    "print(c)"
   ]
  },
  {
   "cell_type": "code",
   "execution_count": null,
   "metadata": {},
   "outputs": [],
   "source": []
  }
 ],
 "metadata": {
  "kernelspec": {
   "display_name": "nanogpt",
   "language": "python",
   "name": "python3"
  },
  "language_info": {
   "codemirror_mode": {
    "name": "ipython",
    "version": 3
   },
   "file_extension": ".py",
   "mimetype": "text/x-python",
   "name": "python",
   "nbconvert_exporter": "python",
   "pygments_lexer": "ipython3",
   "version": "3.9.1"
  }
 },
 "nbformat": 4,
 "nbformat_minor": 2
}
