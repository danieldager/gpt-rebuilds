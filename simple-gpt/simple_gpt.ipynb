{
 "cells": [
  {
   "cell_type": "code",
   "execution_count": 3,
   "metadata": {},
   "outputs": [],
   "source": [
    "import torch\n",
    "import torch.nn as nn\n",
    "import torch.nn.functional as F"
   ]
  },
  {
   "cell_type": "code",
   "execution_count": 34,
   "metadata": {},
   "outputs": [
    {
     "name": "stdout",
     "output_type": "stream",
     "text": [
      "tensor([[1., 1., 1.],\n",
      "        [1., 1., 1.],\n",
      "        [1., 1., 1.]])\n",
      "tensor([[1., 0., 0.],\n",
      "        [1., 1., 0.],\n",
      "        [1., 1., 1.]])\n",
      "tensor([[1.0000, 0.0000, 0.0000],\n",
      "        [0.5000, 0.5000, 0.0000],\n",
      "        [0.3333, 0.3333, 0.3333]])\n"
     ]
    }
   ],
   "source": [
    "# efficient averaging and masking using matrix multiplication\n",
    "a = torch.ones(3, 3)\n",
    "print(a)\n",
    "\n",
    "a = a.tril()\n",
    "print(a)\n",
    "\n",
    "a = a / a.sum(1, keepdim=True)\n",
    "print(a)"
   ]
  },
  {
   "cell_type": "code",
   "execution_count": 36,
   "metadata": {},
   "outputs": [
    {
     "name": "stdout",
     "output_type": "stream",
     "text": [
      "tensor([[4., 8., 0.],\n",
      "        [8., 5., 3.],\n",
      "        [9., 9., 8.]])\n",
      "tensor([[4.0000, 8.0000, 0.0000],\n",
      "        [6.0000, 6.5000, 1.5000],\n",
      "        [7.0000, 7.3333, 3.6667]])\n"
     ]
    }
   ],
   "source": [
    "# we can see how this works on an example\n",
    "b = torch.randint(0, 10, (3, 3)).float()\n",
    "print(b)\n",
    "\n",
    "c = a @ b\n",
    "print(c)\n",
    "\n",
    "# notice how the averages go downward along the columns"
   ]
  },
  {
   "cell_type": "code",
   "execution_count": 32,
   "metadata": {},
   "outputs": [
    {
     "name": "stdout",
     "output_type": "stream",
     "text": [
      "tensor([[1., 0., 0., 0., 0., 0., 0., 0.],\n",
      "        [1., 1., 0., 0., 0., 0., 0., 0.],\n",
      "        [1., 1., 1., 0., 0., 0., 0., 0.],\n",
      "        [1., 1., 1., 1., 0., 0., 0., 0.],\n",
      "        [1., 1., 1., 1., 1., 0., 0., 0.],\n",
      "        [1., 1., 1., 1., 1., 1., 0., 0.],\n",
      "        [1., 1., 1., 1., 1., 1., 1., 0.],\n",
      "        [1., 1., 1., 1., 1., 1., 1., 1.]])\n",
      "tensor([[1., -inf, -inf, -inf, -inf, -inf, -inf, -inf],\n",
      "        [1., 1., -inf, -inf, -inf, -inf, -inf, -inf],\n",
      "        [1., 1., 1., -inf, -inf, -inf, -inf, -inf],\n",
      "        [1., 1., 1., 1., -inf, -inf, -inf, -inf],\n",
      "        [1., 1., 1., 1., 1., -inf, -inf, -inf],\n",
      "        [1., 1., 1., 1., 1., 1., -inf, -inf],\n",
      "        [1., 1., 1., 1., 1., 1., 1., -inf],\n",
      "        [1., 1., 1., 1., 1., 1., 1., 1.]])\n",
      "tensor([[1.0000, 0.0000, 0.0000, 0.0000, 0.0000, 0.0000, 0.0000, 0.0000],\n",
      "        [0.5000, 0.5000, 0.0000, 0.0000, 0.0000, 0.0000, 0.0000, 0.0000],\n",
      "        [0.3333, 0.3333, 0.3333, 0.0000, 0.0000, 0.0000, 0.0000, 0.0000],\n",
      "        [0.2500, 0.2500, 0.2500, 0.2500, 0.0000, 0.0000, 0.0000, 0.0000],\n",
      "        [0.2000, 0.2000, 0.2000, 0.2000, 0.2000, 0.0000, 0.0000, 0.0000],\n",
      "        [0.1667, 0.1667, 0.1667, 0.1667, 0.1667, 0.1667, 0.0000, 0.0000],\n",
      "        [0.1429, 0.1429, 0.1429, 0.1429, 0.1429, 0.1429, 0.1429, 0.0000],\n",
      "        [0.1250, 0.1250, 0.1250, 0.1250, 0.1250, 0.1250, 0.1250, 0.1250]])\n"
     ]
    }
   ],
   "source": [
    "# however, you can achieve the same result with softmax\n",
    "T = 8\n",
    "\n",
    "# triangular matrix\n",
    "w = torch.tril(torch.ones(T, T))\n",
    "print(w)\n",
    "\n",
    "# mask with negative infinity\n",
    "w = w.masked_fill(w == 0, float('-inf'))\n",
    "print(w)\n",
    "\n",
    "# softmax to get appropriate subdivisions\n",
    "# dim = 0 avg over rows, dim = 1 avg over cols\n",
    "w = F.softmax(w, dim=1)\n",
    "print(w)\n"
   ]
  },
  {
   "cell_type": "code",
   "execution_count": 46,
   "metadata": {},
   "outputs": [
    {
     "name": "stdout",
     "output_type": "stream",
     "text": [
      "torch.Size([4, 8, 32])\n",
      "torch.Size([4, 8, 16]) torch.Size([4, 8, 16])\n",
      "tensor(0.3348, grad_fn=<VarBackward0>) tensor(0.3227, grad_fn=<VarBackward0>)\n",
      "torch.Size([4, 8, 8])\n",
      "tensor(1.9700, grad_fn=<VarBackward0>) tensor(0.1231, grad_fn=<VarBackward0>)\n",
      "torch.Size([4, 8, 8])\n",
      "tensor([[1.0000, 0.0000, 0.0000, 0.0000, 0.0000, 0.0000, 0.0000, 0.0000],\n",
      "        [0.4106, 0.5894, 0.0000, 0.0000, 0.0000, 0.0000, 0.0000, 0.0000],\n",
      "        [0.3657, 0.2283, 0.4061, 0.0000, 0.0000, 0.0000, 0.0000, 0.0000],\n",
      "        [0.2168, 0.2759, 0.2204, 0.2870, 0.0000, 0.0000, 0.0000, 0.0000],\n",
      "        [0.2553, 0.1697, 0.1548, 0.2341, 0.1861, 0.0000, 0.0000, 0.0000],\n",
      "        [0.1318, 0.2060, 0.1405, 0.1917, 0.1949, 0.1351, 0.0000, 0.0000],\n",
      "        [0.2137, 0.0978, 0.2374, 0.1025, 0.1418, 0.0838, 0.1230, 0.0000],\n",
      "        [0.0852, 0.1047, 0.0824, 0.1376, 0.1015, 0.1900, 0.1780, 0.1206]],\n",
      "       grad_fn=<SelectBackward0>)\n",
      "torch.Size([4, 8, 16])\n"
     ]
    }
   ],
   "source": [
    "# now we implement a basic self-attention block\n",
    "torch.manual_seed(42)\n",
    "\n",
    "B, T, C = 4, 8, 32 # batch, time, channels\n",
    "x = torch.randn(B, T, C)\n",
    "print(x.shape)\n",
    "\n",
    "# we start by initializing a single \"head\"\n",
    "h_size = 16\n",
    "key = nn.Linear(C, h_size, bias=False)\n",
    "qry = nn.Linear(C, h_size, bias=False)\n",
    "\n",
    "# key and query vectors are the results of applying linear \n",
    "# transformations (in the form of a linear nn) to the input \n",
    "# vectors, which projects them into key and query \"spaces\"\n",
    "k = key(x) # (B, T, h_size)\n",
    "q = qry(x) # (B, T, h_size)\n",
    "print(k.shape, q.shape)\n",
    "print(k.var(), q.var())\n",
    "\n",
    "# we create the weights matrix by combining k and q\n",
    "# (B, T, h_size) @ (B, h_size, T) --> (B, T, T)\n",
    "# (convince yourself this is equivalent to dot product)\n",
    "wei = q @ k.transpose(-2, -1)\n",
    "print(wei.shape)\n",
    "\n",
    "# scale by the sqrt of h_size (embedding space dimension)\n",
    "# this softens the softmax, prevents converging on one-hot vectors\n",
    "before = wei.var()\n",
    "wei = wei * h_size**-0.5\n",
    "print(before, wei.var())\n",
    "\n",
    "# this preserves the variance of wei\n",
    "\n",
    "# finally, we apply the previous triagularization/softmax technique\n",
    "tri = torch.tril(torch.ones(T, T))\n",
    "wei = wei.masked_fill(tri==0, float('-inf'))\n",
    "\n",
    "# apply softmax over the last dimension (why?)\n",
    "wei = F.softmax(wei, dim=-1)\n",
    "print(wei.shape)\n",
    "print(wei[0])\n",
    "\n",
    "# we also do a projection into \"value\" space\n",
    "val = nn.Linear(C, h_size, bias=False)\n",
    "v = val(x)\n",
    "\n",
    "# finally, multiple v by wei to get output\n",
    "out = wei @ v\n",
    "print(out.shape)"
   ]
  },
  {
   "cell_type": "code",
   "execution_count": null,
   "metadata": {},
   "outputs": [],
   "source": []
  },
  {
   "cell_type": "code",
   "execution_count": null,
   "metadata": {},
   "outputs": [],
   "source": []
  }
 ],
 "metadata": {
  "kernelspec": {
   "display_name": "nanogpt",
   "language": "python",
   "name": "python3"
  },
  "language_info": {
   "codemirror_mode": {
    "name": "ipython",
    "version": 3
   },
   "file_extension": ".py",
   "mimetype": "text/x-python",
   "name": "python",
   "nbconvert_exporter": "python",
   "pygments_lexer": "ipython3",
   "version": "3.9.1"
  }
 },
 "nbformat": 4,
 "nbformat_minor": 2
}
